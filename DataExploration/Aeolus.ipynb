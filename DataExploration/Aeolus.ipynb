{
 "cells": [
  {
   "cell_type": "code",
   "execution_count": 3,
   "id": "8a860527",
   "metadata": {},
   "outputs": [],
   "source": [
    "import os\n",
    "os.chdir('..')"
   ]
  },
  {
   "cell_type": "code",
   "execution_count": 4,
   "id": "157cf50c",
   "metadata": {},
   "outputs": [],
   "source": [
    "import pandas as pd\n",
    "import numpy as np\n",
    "import plotly.graph_objects as go\n",
    "import plotly.express as px\n",
    "from plotly.subplots import make_subplots"
   ]
  },
  {
   "cell_type": "code",
   "execution_count": 5,
   "id": "4aaef0b6",
   "metadata": {},
   "outputs": [],
   "source": [
    "from DataManager.WindTK import WindTKAPI"
   ]
  },
  {
   "cell_type": "code",
   "execution_count": 6,
   "id": "d23fd1f0",
   "metadata": {},
   "outputs": [],
   "source": [
    "pd.set_option('display.max_columns', None)"
   ]
  },
  {
   "cell_type": "code",
   "execution_count": 10,
   "id": "190c390e",
   "metadata": {},
   "outputs": [],
   "source": [
    "from WindPower.Aeolus import Aeolus\n",
    "from WindPower.WindTurbine import WindTurbine"
   ]
  },
  {
   "cell_type": "code",
   "execution_count": 8,
   "id": "07d36058",
   "metadata": {},
   "outputs": [],
   "source": [
    "latitude = 37.9543963\n",
    "longitude = -91.7831068"
   ]
  },
  {
   "cell_type": "code",
   "execution_count": 11,
   "id": "e5608c32",
   "metadata": {},
   "outputs": [],
   "source": [
    "wind_turbine = WindTurbine(eff=0.5, radius=2, height=50)"
   ]
  },
  {
   "cell_type": "code",
   "execution_count": 12,
   "id": "c076c7c6",
   "metadata": {},
   "outputs": [
    {
     "name": "stdout",
     "output_type": "stream",
     "text": [
      "WindTK Data saved as CSV successfully.\n"
     ]
    }
   ],
   "source": [
    "model = Aeolus(latitude, longitude, wind_turbine)"
   ]
  },
  {
   "cell_type": "code",
   "execution_count": 13,
   "id": "f40022a5",
   "metadata": {},
   "outputs": [
    {
     "data": {
      "text/plain": [
       "6953456.507772121"
      ]
     },
     "execution_count": 13,
     "metadata": {},
     "output_type": "execute_result"
    }
   ],
   "source": [
    "model.hour()"
   ]
  },
  {
   "cell_type": "code",
   "execution_count": null,
   "id": "da15f8ae",
   "metadata": {},
   "outputs": [],
   "source": []
  }
 ],
 "metadata": {
  "kernelspec": {
   "display_name": "venv",
   "language": "python",
   "name": "venv"
  },
  "language_info": {
   "codemirror_mode": {
    "name": "ipython",
    "version": 3
   },
   "file_extension": ".py",
   "mimetype": "text/x-python",
   "name": "python",
   "nbconvert_exporter": "python",
   "pygments_lexer": "ipython3",
   "version": "3.8.9"
  }
 },
 "nbformat": 4,
 "nbformat_minor": 5
}
