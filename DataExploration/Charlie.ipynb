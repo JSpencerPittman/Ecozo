{
 "cells": [
  {
   "cell_type": "code",
   "execution_count": 1,
   "id": "b6a6924d",
   "metadata": {},
   "outputs": [],
   "source": [
    "import os\n",
    "os.chdir('..')"
   ]
  },
  {
   "cell_type": "code",
   "execution_count": 2,
   "id": "bbea6fec",
   "metadata": {},
   "outputs": [],
   "source": [
    "from SolarIrrad.models.charlie import Charlie"
   ]
  },
  {
   "cell_type": "code",
   "execution_count": 3,
   "id": "e6afd2f4",
   "metadata": {},
   "outputs": [],
   "source": [
    "from SolarIrrad.models.model import SolarPanel\n",
    "\n",
    "effiency = 0.2  # percentage\n",
    "area = 10  # meters squared\n",
    "performance_ratio = 0.75  # percentage\n",
    "capacity = 300  # watts\n",
    "\n",
    "solar_panel = SolarPanel(eff=effiency, area=area, pr=performance_ratio, \n",
    "                   cap=capacity)"
   ]
  },
  {
   "cell_type": "code",
   "execution_count": 4,
   "id": "b4e11e73",
   "metadata": {},
   "outputs": [],
   "source": [
    "latitude = 37.9543963\n",
    "longitude = -91.7831068"
   ]
  },
  {
   "cell_type": "code",
   "execution_count": 6,
   "id": "0955e739",
   "metadata": {},
   "outputs": [
    {
     "name": "stdout",
     "output_type": "stream",
     "text": [
      "Power generated in the next hour     :  0.1691264880605505\n",
      "Power generated in the next day      :  4.059035713453212\n",
      "Power generated in the next five days:  20.29517856726606\n",
      "Power generated in the next month    :  120.79563059649051\n",
      "Power generated in the next year     :  1176.2640388805014\n"
     ]
    }
   ],
   "source": [
    "model = Charlie(latitude, longitude, solar_panel)\n",
    "\n",
    "print(\"Power generated in the next hour     : \", model.hour())\n",
    "print(\"Power generated in the next day      : \", model.day())\n",
    "print(\"Power generated in the next five days: \", model.five_days())\n",
    "print(\"Power generated in the next month    : \", model.month())\n",
    "print(\"Power generated in the next year     : \", model.year())"
   ]
  },
  {
   "cell_type": "code",
   "execution_count": null,
   "id": "d6500261",
   "metadata": {},
   "outputs": [],
   "source": [
    "daytime = ..."
   ]
  },
  {
   "cell_type": "code",
   "execution_count": null,
   "id": "3a264095",
   "metadata": {},
   "outputs": [],
   "source": [
    "daily_srad * area"
   ]
  },
  {
   "cell_type": "code",
   "execution_count": null,
   "id": "dd1b1592",
   "metadata": {},
   "outputs": [],
   "source": [
    "def captured_no_capacity(time, daily_srad, daytime):\n",
    "    term1 = (-6 * daily_srad) / (daytime**3)\n",
    "    term2 = (time - (daytime / 2))**2\n",
    "    term3 = (3 * daily_srad) / (2 * d)\n",
    "    \n",
    "    return term1 * term2 + term3"
   ]
  },
  {
   "cell_type": "code",
   "execution_count": null,
   "id": "d43d0951",
   "metadata": {},
   "outputs": [],
   "source": [
    "def capture_capacity(time, daily_srad, daytime, capacity):\n",
    "    no_cap = capture_no_capacity(time, daily_srad, daytime)\n",
    "    return min(capacity, no_cap)"
   ]
  },
  {
   "cell_type": "code",
   "execution_count": null,
   "id": "4259011f",
   "metadata": {},
   "outputs": [],
   "source": []
  },
  {
   "cell_type": "code",
   "execution_count": null,
   "id": "011a3569",
   "metadata": {},
   "outputs": [],
   "source": []
  }
 ],
 "metadata": {
  "kernelspec": {
   "display_name": "venv",
   "language": "python",
   "name": "venv"
  },
  "language_info": {
   "codemirror_mode": {
    "name": "ipython",
    "version": 3
   },
   "file_extension": ".py",
   "mimetype": "text/x-python",
   "name": "python",
   "nbconvert_exporter": "python",
   "pygments_lexer": "ipython3",
   "version": "3.8.9"
  }
 },
 "nbformat": 4,
 "nbformat_minor": 5
}
